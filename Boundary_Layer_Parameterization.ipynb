{
 "cells": [
  {
   "cell_type": "code",
   "execution_count": null,
   "metadata": {},
   "outputs": [],
   "source": [
    "# This program is a simple 1D vertical boundary layer model\n",
    "# where thea and mixing ratio are allowed to vary with height.\n",
    "#\n",
    "# A simple centered finite difference scheme is used to advance\n",
    "# the model forward in time with different vertical levels.\n",
    "\n",
    "import numpy as np\n",
    "import matplotlib.pyplot as plt\n",
    "\n",
    "plt.rc('font', size = 12)\n"
   ]
  },
  {
   "cell_type": "code",
   "execution_count": null,
   "metadata": {},
   "outputs": [],
   "source": [
    "def BL_param(Kh):\n",
    "    # Set up arrays for the program\n",
    "    z = np.zeros((201,))\n",
    "    theta_bar = np.zeros((201,21601))\n",
    "    q_bar = np.zeros((201,21601))\n",
    "\n",
    "    # Set constants for the program\n",
    "    hours = 6\n",
    "    etime = hours*3600\n",
    "    #Kh=10.\n",
    "\n",
    "    k=1\n",
    "    deltaz=50.\n",
    "    z[0] = 0.\n",
    "    t = 0\n",
    "\n",
    "    deltat = 1.\n",
    "    # Set mixing value for K-theory\n",
    "    #Kh = float(input(\"Please specify a Kh value between 10 - 200: \\n\"))\n",
    "\n",
    "    # Set the initial values where i is the veritcal level and j is the time step\n",
    "    for i in range(200):\n",
    "        theta_bar[i,0] = 310. + ((5./1000.)*z[i])\n",
    "        if (z[i] <= 1000):\n",
    "            q_bar[i,0] = 0.011\n",
    "        else:\n",
    "            q_bar[i,0] = 0.003\n",
    "        z[i+1] = z[i] + deltaz\n",
    "\n",
    "    theta_bar[0,0] = 311.0 + (10.*t/10800.)\n",
    "    q_bar[0,0] = 0.017 - (0.0025*t/10800.)\n",
    "    theta_bar[200,0] = 311.0 + ((5./1000.)*10000)\n",
    "\n",
    "    for j in range(etime):\n",
    "        theta_bar[1:200,j+1] = theta_bar[1:200,j] + (((Kh*deltat)/(deltaz**2.))*(theta_bar[2:201,j]+theta_bar[0:199,j]-2*theta_bar[1:200,j]))\n",
    "        q_bar[1:200,j+1] = q_bar[1:200,j] + (((Kh*deltat)/(deltaz**2.))*(q_bar[2:201,j]+q_bar[0:199,j]-2*q_bar[1:200,j]))\n",
    "        t = t + 1.\n",
    "        theta_bar[0,j+1] = 311.0 + (10.*t/10800.)\n",
    "        q_bar[0,j+1] = 0.017 - (0.0025*t/10800.)\n",
    "        theta_bar[200,j+1] = 311.0 + ((5./1000.)*10000)\n",
    "\n",
    "    line_colors = ['b','r','g','y','k','m','c']\n",
    "    labels = ['Init','1h','2h','3h','4h','5h','6h']\n",
    "    hours = [0,1,2,3,4,5,6]\n",
    "\n",
    "    fig = plt.figure(1,figsize=(15,7.5))\n",
    "    ax1 = plt.subplot(121)\n",
    "    for t, c, l in zip(hours, line_colors, labels):\n",
    "        plt.plot(theta_bar[:80,3600*t], z[:80], c, label=l)\n",
    "    plt.axis([300,340,0,4000])\n",
    "    plt.title('K-Theory Theta Prediction')\n",
    "    plt.ylabel('Height (m)')\n",
    "    plt.xlabel('Pot. Temp. (K)')\n",
    "    plt.legend()\n",
    "    #plt.savefig('thtamix_'+str(int(Kh))+'.png',dpi=150)\n",
    "\n",
    "\n",
    "    ax2 = plt.subplot(122)\n",
    "    for t, c, l in zip(hours, line_colors, labels):\n",
    "        plt.plot(q_bar[:80,3600*t]*1000., z[:80], c, label=l)\n",
    "    plt.axis([0,20,0,4000])\n",
    "    plt.title('K-Theory q Prediction')\n",
    "    plt.ylabel('Height (m)')\n",
    "    plt.xlabel('Mixing Ratio (g/kg)')\n",
    "    plt.legend()\n",
    "    #plt.savefig('qmix_'+str(int(Kh))+'.png',dpi=150)\n",
    "    plt.show()"
   ]
  },
  {
   "cell_type": "code",
   "execution_count": null,
   "metadata": {},
   "outputs": [],
   "source": [
    "from ipywidgets import interact, widgets\n",
    "\n",
    "style = {'description_width': 'initial'}\n",
    "interact(BL_param, Kh = widgets.IntSlider(min=5,max=300,step=5,value=25, description='Set Kh Value: ', style=style));"
   ]
  },
  {
   "cell_type": "code",
   "execution_count": null,
   "metadata": {},
   "outputs": [],
   "source": []
  }
 ],
 "metadata": {
  "kernelspec": {
   "display_name": "Python 3 (ipykernel)",
   "language": "python",
   "name": "python3"
  },
  "language_info": {
   "codemirror_mode": {
    "name": "ipython",
    "version": 3
   },
   "file_extension": ".py",
   "mimetype": "text/x-python",
   "name": "python",
   "nbconvert_exporter": "python",
   "pygments_lexer": "ipython3",
   "version": "3.8.12"
  }
 },
 "nbformat": 4,
 "nbformat_minor": 4
}
