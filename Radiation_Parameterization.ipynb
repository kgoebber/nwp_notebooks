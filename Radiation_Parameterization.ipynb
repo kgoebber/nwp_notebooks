{
 "cells": [
  {
   "cell_type": "code",
   "execution_count": null,
   "metadata": {},
   "outputs": [],
   "source": [
    "import numpy as np\n",
    "import matplotlib.pyplot as plt\n",
    "\n",
    "plt.rc('font', size = 12)\n"
   ]
  },
  {
   "cell_type": "code",
   "execution_count": null,
   "metadata": {},
   "outputs": [],
   "source": [
    "def absorption(xx):\n",
    "    # Absorption of shortwave radiation in VIS spectrum\n",
    "    A_vis=(0.02118*xx/(1+0.042*xx+0.000323*(xx**2)))\n",
    "\n",
    "    # Absorption of shortwave radiation in UV spectrum\n",
    "    A_uv=(1.082*xx/((1+138.6*xx)**0.805))+(0.0658*xx/(1+(103.6*xx)**3))\n",
    "    \n",
    "    return A_vis+A_uv\n",
    "\n",
    "def radiation_scheme(x):\n",
    "    #x = float(input(\"Specify an ozone path length (0.2 to 0.6): \\n\"))\n",
    "\n",
    "    Ra_star=0.144\n",
    "    Rg=0.10\n",
    "    M_bar=1.9\n",
    "    S_o=1368.0\n",
    "    zenith_ang = 20.0\n",
    "\n",
    "    fig = plt.figure(1, figsize=(10,10))\n",
    "    #ax1 = plt.subplot(121)\n",
    "    ##plt.axis([0,.5,0,8])\n",
    "    #plt.title('Magnification Factor By Zenith Angle')\n",
    "    #plt.ylabel('Zenith Angle')\n",
    "    #plt.xlabel('Magnification Factor')\n",
    "    #plt.yticks(range(8), [10,20,30,40,50,60,70,80])\n",
    "    ax2 = plt.subplot(111)\n",
    "    #plt.axis([0,50,0,8])\n",
    "    plt.title('Absorption of Solar Radiation by Ozone')\n",
    "    plt.ylabel('Zenith Angle')\n",
    "    plt.xlabel('Absorbed Radiation (W m-2)')\n",
    "    plt.xlim(0, 90)\n",
    "    plt.yticks(range(8), [10,20,30,40,50,60,70,80])\n",
    "\n",
    "    print('  Zenith Angle     Absoprtion')\n",
    "    print('------------------------------')\n",
    "    for y in range(1,8):\n",
    "        mu=np.cos(zenith_ang*np.pi/180)**2\n",
    "        # Effective albedo of the lower atmosphere\n",
    "        Ra=(0.219/(1+0.816*mu))\n",
    "        print()\n",
    "\n",
    "        # Accounting for the Albedo of a reflecting region\n",
    "        Ru=Ra+((1-Ra)*(1-Ra_star)*Rg/(1-Ra_star*Rg))\n",
    "\n",
    "        # Magnification factor, accounts for path slant and refraction\n",
    "        M=35/((1224*(mu**2)+1)**(1/2))\n",
    "\n",
    "        # Total Absorption by VIS and UV spectrum for the given path length of ozone.\n",
    "        A=absorption(x)\n",
    "\n",
    "        # Diffuse Radiation Path\n",
    "        x1=x*(M+M_bar)\n",
    "\n",
    "        # Total Absorption of a layer the sum of VIS and UV absorption\n",
    "        A1=absorption(x1)\n",
    "\n",
    "        # Ozone path times the magnification factor (accounts for path slant and refraction)\n",
    "        x2=x*M\n",
    "\n",
    "        A2=absorption(x2)\n",
    "\n",
    "        # Final absorption assuming a single layer of ozone above the\n",
    "        # tropopause with an ozone path x, above a single scattering layer\n",
    "        A=mu*(A+Ru*(A1-A2))\n",
    "\n",
    "        S=S_o*A*2\n",
    "        print(f'{zenith_ang:6.1f} degrees  {S:8.2f} W m-2')\n",
    "\n",
    "        #ax1.barh(y, M, .5, align='center')\n",
    "        ax2.barh(y, S, .5, align='center')\n",
    "        \n",
    "        zenith_ang += 10.\n",
    "    plt.show()\n",
    "    return"
   ]
  },
  {
   "cell_type": "code",
   "execution_count": null,
   "metadata": {},
   "outputs": [],
   "source": [
    "from ipywidgets import interact, widgets\n",
    "\n",
    "style = {'description_width': 'initial'}\n",
    "interact(radiation_scheme, x = widgets.FloatSlider(min=0.2,max=0.61,step=.01,value=.3, description='Ozone Depth: ', style=style));"
   ]
  },
  {
   "cell_type": "code",
   "execution_count": null,
   "metadata": {},
   "outputs": [],
   "source": []
  }
 ],
 "metadata": {
  "kernelspec": {
   "display_name": "Python 3 (ipykernel)",
   "language": "python",
   "name": "python3"
  },
  "language_info": {
   "codemirror_mode": {
    "name": "ipython",
    "version": 3
   },
   "file_extension": ".py",
   "mimetype": "text/x-python",
   "name": "python",
   "nbconvert_exporter": "python",
   "pygments_lexer": "ipython3",
   "version": "3.8.12"
  }
 },
 "nbformat": 4,
 "nbformat_minor": 4
}
